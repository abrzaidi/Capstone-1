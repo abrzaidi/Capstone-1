{
 "cells": [
  {
   "cell_type": "markdown",
   "metadata": {},
   "source": [
    "Applying Pearson Coefficient"
   ]
  },
  {
   "cell_type": "code",
   "execution_count": 86,
   "metadata": {},
   "outputs": [],
   "source": [
    "import os\n",
    "import pandas as pd\n",
    "import matplotlib.pyplot as plt\n",
    "df= pd.read_csv('breast.csv')\n",
    "df2=df.set_index('Classification')\n",
    "df2.index.name= 'Control Or Patient'\n",
    "df2.rename(index={1:'Control'},inplace=True)\n",
    "df2.rename(index={2:'Patient'},inplace=True)"
   ]
  },
  {
   "cell_type": "code",
   "execution_count": 59,
   "metadata": {},
   "outputs": [
    {
     "name": "stdout",
     "output_type": "stream",
     "text": [
      "The Pearson Coefficient for Glucose is: 0.38431537674849614\n"
     ]
    }
   ],
   "source": [
    "import numpy as np\n",
    "\n",
    "def pearson_r(x, y):\n",
    "    corr_mat= np.corrcoef(x,y)\n",
    "    return corr_mat[0,1]\n",
    "\n",
    "print('The Pearson Coefficient for Glucose is: ' + str(pearson_r(df['Glucose'], df['Classification'])))"
   ]
  },
  {
   "cell_type": "code",
   "execution_count": 55,
   "metadata": {},
   "outputs": [
    {
     "name": "stdout",
     "output_type": "stream",
     "text": [
      "The Pearson Coefficient for Insulin is: 0.27680371409623655\n"
     ]
    }
   ],
   "source": [
    "print('The Pearson Coefficient for Insulin is: ' + str(pearson_r(df['Insulin'], df['Classification'])))"
   ]
  },
  {
   "cell_type": "code",
   "execution_count": 56,
   "metadata": {},
   "outputs": [
    {
     "name": "stdout",
     "output_type": "stream",
     "text": [
      "The Pearson Coefficient for HOMA is: 0.28401222241195706\n"
     ]
    }
   ],
   "source": [
    "print('The Pearson Coefficient for HOMA is: ' + str(pearson_r(df['HOMA'], df['Classification'])))"
   ]
  },
  {
   "cell_type": "code",
   "execution_count": 57,
   "metadata": {},
   "outputs": [
    {
     "name": "stdout",
     "output_type": "stream",
     "text": [
      "The Pearson Coefficient for Resistin is: 0.2273102956428769\n"
     ]
    }
   ],
   "source": [
    "print('The Pearson Coefficient for Resistin is: ' + str(pearson_r(df['Resistin'], df['Classification'])))"
   ]
  },
  {
   "cell_type": "code",
   "execution_count": 58,
   "metadata": {},
   "outputs": [
    {
     "name": "stdout",
     "output_type": "stream",
     "text": [
      "The Pearson Coefficient for MCP.1 is: 0.09138051686160058\n"
     ]
    }
   ],
   "source": [
    "print('The Pearson Coefficient for MCP.1 is: ' + str(pearson_r(df['MCP.1'], df['Classification'])))"
   ]
  },
  {
   "cell_type": "markdown",
   "metadata": {},
   "source": [
    "T-Test Between Control and Patient"
   ]
  },
  {
   "cell_type": "code",
   "execution_count": 103,
   "metadata": {},
   "outputs": [
    {
     "data": {
      "text/plain": [
       "Ttest_indResult(statistic=4.836086628923141, pvalue=4.553924023538758e-06)"
      ]
     },
     "execution_count": 103,
     "metadata": {},
     "output_type": "execute_result"
    }
   ],
   "source": [
    "#Glucose\n",
    "from scipy import stats\n",
    "%store -r GC_Final\n",
    "%store -r GP_Final \n",
    "\n",
    "stats.ttest_ind(GP_Final,GC_Final)"
   ]
  },
  {
   "cell_type": "code",
   "execution_count": 104,
   "metadata": {},
   "outputs": [
    {
     "data": {
      "text/plain": [
       "Ttest_indResult(statistic=3.8195347807022357, pvalue=0.0002287818503564263)"
      ]
     },
     "execution_count": 104,
     "metadata": {},
     "output_type": "execute_result"
    }
   ],
   "source": [
    "#Insulin\n",
    "\n",
    "%store -r IC_Final\n",
    "%store -r IP_Final \n",
    "\n",
    "stats.ttest_ind(IP_Final,IC_Final)"
   ]
  },
  {
   "cell_type": "code",
   "execution_count": 105,
   "metadata": {},
   "outputs": [
    {
     "data": {
      "text/plain": [
       "Ttest_indResult(statistic=4.311586579301504, pvalue=3.721185327571336e-05)"
      ]
     },
     "execution_count": 105,
     "metadata": {},
     "output_type": "execute_result"
    }
   ],
   "source": [
    "#HOMA\n",
    "\n",
    "%store -r HC_Final\n",
    "%store -r HP_Final \n",
    "\n",
    "stats.ttest_ind(HP_Final,HC_Final)"
   ]
  },
  {
   "cell_type": "code",
   "execution_count": 106,
   "metadata": {},
   "outputs": [
    {
     "data": {
      "text/plain": [
       "Ttest_indResult(statistic=4.067333982792698, pvalue=9.218359356473325e-05)"
      ]
     },
     "execution_count": 106,
     "metadata": {},
     "output_type": "execute_result"
    }
   ],
   "source": [
    "#Resistin\n",
    "\n",
    "%store -r RC_Final\n",
    "%store -r RP_Final \n",
    "\n",
    "stats.ttest_ind(RP_Final,RC_Final)"
   ]
  },
  {
   "cell_type": "code",
   "execution_count": 107,
   "metadata": {},
   "outputs": [
    {
     "data": {
      "text/plain": [
       "Ttest_indResult(statistic=0.35453088034832336, pvalue=0.7236323793033986)"
      ]
     },
     "execution_count": 107,
     "metadata": {},
     "output_type": "execute_result"
    }
   ],
   "source": [
    "#MCP.1\n",
    "\n",
    "%store -r MC_Final\n",
    "%store -r MP_Final \n",
    "\n",
    "stats.ttest_ind(MP_Final,MC_Final)"
   ]
  }
 ],
 "metadata": {
  "kernelspec": {
   "display_name": "Python 3",
   "language": "python",
   "name": "python3"
  },
  "language_info": {
   "codemirror_mode": {
    "name": "ipython",
    "version": 3
   },
   "file_extension": ".py",
   "mimetype": "text/x-python",
   "name": "python",
   "nbconvert_exporter": "python",
   "pygments_lexer": "ipython3",
   "version": "3.7.3"
  }
 },
 "nbformat": 4,
 "nbformat_minor": 2
}
