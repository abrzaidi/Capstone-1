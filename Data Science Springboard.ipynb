{
 "cells": [
  {
   "cell_type": "markdown",
   "metadata": {},
   "source": [
    "1. Raw Data"
   ]
  },
  {
   "cell_type": "code",
   "execution_count": 44,
   "metadata": {},
   "outputs": [
    {
     "name": "stdout",
     "output_type": "stream",
     "text": [
      "   Age        BMI  Glucose  Insulin      HOMA   Leptin  Adiponectin  Resistin  \\\n",
      "0   48  23.500000       70    2.707  0.467409   8.8071     9.702400   7.99585   \n",
      "1   83  20.690495       92    3.115  0.706897   8.8438     5.429285   4.06405   \n",
      "2   82  23.124670       91    4.498  1.009651  17.9393    22.432040   9.27715   \n",
      "3   68  21.367521       77    3.226  0.612725   9.8827     7.169560  12.76600   \n",
      "4   86  21.111111       92    3.549  0.805386   6.6994     4.819240  10.57635   \n",
      "\n",
      "     MCP.1  Classification  \n",
      "0  417.114               1  \n",
      "1  468.786               1  \n",
      "2  554.697               1  \n",
      "3  928.220               1  \n",
      "4  773.920               1  \n"
     ]
    }
   ],
   "source": [
    "import os\n",
    "import pandas as pd\n",
    "df= pd.read_csv('breast.csv')\n",
    "print(df.head())"
   ]
  },
  {
   "cell_type": "markdown",
   "metadata": {},
   "source": [
    "2. Data With Classificartion as index"
   ]
  },
  {
   "cell_type": "code",
   "execution_count": 108,
   "metadata": {},
   "outputs": [
    {
     "name": "stdout",
     "output_type": "stream",
     "text": [
      "                    Age        BMI  Glucose  Insulin      HOMA   Leptin  \\\n",
      "Control Or Patient                                                        \n",
      "Control              48  23.500000       70    2.707  0.467409   8.8071   \n",
      "Control              83  20.690495       92    3.115  0.706897   8.8438   \n",
      "Control              82  23.124670       91    4.498  1.009651  17.9393   \n",
      "Control              68  21.367521       77    3.226  0.612725   9.8827   \n",
      "Control              86  21.111111       92    3.549  0.805386   6.6994   \n",
      "\n",
      "                    Adiponectin  Resistin    MCP.1  \n",
      "Control Or Patient                                  \n",
      "Control                9.702400   7.99585  417.114  \n",
      "Control                5.429285   4.06405  468.786  \n",
      "Control               22.432040   9.27715  554.697  \n",
      "Control                7.169560  12.76600  928.220  \n",
      "Control                4.819240  10.57635  773.920  \n"
     ]
    }
   ],
   "source": [
    "df2=df.set_index('Classification')\n",
    "df2.index.name= 'Control Or Patient'\n",
    "df2.rename(index={1:'Control'},inplace=True)\n",
    "df2.rename(index={2:'Patient'},inplace=True)\n",
    "print(df2.head())"
   ]
  },
  {
   "cell_type": "markdown",
   "metadata": {},
   "source": [
    "3. Looking For Outliers"
   ]
  },
  {
   "cell_type": "code",
   "execution_count": 115,
   "metadata": {},
   "outputs": [
    {
     "name": "stdout",
     "output_type": "stream",
     "text": [
      "                    Age        BMI  Glucose  Insulin       HOMA   Leptin  \\\n",
      "Control Or Patient                                                         \n",
      "Control              24  18.670000       88    6.107   1.330000   8.8800   \n",
      "Control              25  22.860000       82    4.090   0.827271  20.4500   \n",
      "Control              28  35.855815       87    8.576   1.840410  68.5102   \n",
      "Control              29  32.270788       84    5.810   1.203832  45.6196   \n",
      "Control              29  23.010000       82    5.663   1.145436  35.5900   \n",
      "Control              32  36.512637       87   14.026   3.009980  49.3727   \n",
      "Patient              34  24.242424       92   21.699   4.924226  16.7353   \n",
      "Control              34  31.975015       87    4.530   0.972138  28.7502   \n",
      "Control              34  21.470000       78    3.469   0.667436  14.5700   \n",
      "Control              35  35.250761       90    6.817   1.513374  50.6094   \n",
      "Control              35  30.276817       84    4.376   0.906707  39.2134   \n",
      "Control              36  28.576676       86    4.345   0.921719  15.1248   \n",
      "Control              36  34.174890       80    6.590   1.300427  10.2809   \n",
      "Patient              38  22.499637       95    5.261   1.232828   8.4380   \n",
      "Control              38  23.340000       75    5.782   1.069670  15.2600   \n",
      "Patient              40  30.836531      128   41.894  13.227332  31.0385   \n",
      "Patient              40  27.636054      103    2.432   0.617890  14.3224   \n",
      "Patient              41  26.672763       97   22.033   5.271762  44.7059   \n",
      "Patient              42  29.296875       98    4.172   1.008511  12.2617   \n",
      "Patient              42  21.359915       93    2.999   0.687971  19.0826   \n",
      "Patient              43  31.250000      103    4.328   1.099601  25.7816   \n",
      "Patient              43  26.562500      101   10.555   2.629602   9.8000   \n",
      "Control              43  34.422174       89   23.194   5.091856  31.2128   \n",
      "Patient              44  27.887617       99    9.208   2.248594  12.6757   \n",
      "Control              44  20.760000       86    7.553   1.600000  14.0900   \n",
      "Patient              44  19.560000      114   15.890   4.468268  13.0800   \n",
      "Patient              44  24.740000      106   58.460  15.285341  18.1600   \n",
      "Patient              45  21.303949      102   13.852   3.485163   7.6476   \n",
      "Patient              45  20.829995       74    4.560   0.832352   7.7529   \n",
      "Patient              45  26.850000       92    3.330   0.755688  54.6800   \n",
      "...                 ...        ...      ...      ...        ...      ...   \n",
      "Patient              71  27.915519      104   18.200   4.668907  53.4997   \n",
      "Control              71  30.300000      102    8.340   2.098344  56.5020   \n",
      "Patient              71  25.510204      112   10.395   2.871792  19.0653   \n",
      "Patient              72  29.136316       83   10.949   2.241625  26.8081   \n",
      "Patient              72  25.590000       82    2.820   0.570392  24.9600   \n",
      "Patient              72  23.620000      105    4.420   1.144780  21.7800   \n",
      "Control              73  22.000000       97    3.350   0.801543   4.4700   \n",
      "Patient              73  37.109375      134    5.636   1.862886  41.4064   \n",
      "Patient              74  28.650138       88    3.012   0.653805  31.1233   \n",
      "Patient              75  30.480000      152    7.010   2.628283  50.5300   \n",
      "Control              75  23.000000       83    4.952   1.013839  17.1270   \n",
      "Control              75  25.700000       94    8.079   1.873251  65.9260   \n",
      "Control              75  27.300000       85    5.197   1.089638  10.3900   \n",
      "Control              76  23.800000      118    6.470   1.883201   4.3110   \n",
      "Control              76  29.218408       83    5.376   1.100646  28.5620   \n",
      "Control              76  27.200000       94   14.070   3.262364  35.8910   \n",
      "Control              76  27.100000      110   26.211   7.111918  21.7780   \n",
      "Control              77  35.587929       76    3.881   0.727558  21.7863   \n",
      "Control              77  25.900000       85    4.580   0.960273  13.7400   \n",
      "Control              78  25.300000       60    3.508   0.519184   6.6330   \n",
      "Patient              81  31.640368      100    9.669   2.385020  38.8066   \n",
      "Patient              82  31.217482      100   18.077   4.458993  31.6453   \n",
      "Control              82  23.124670       91    4.498   1.009651  17.9393   \n",
      "Control              83  20.690495       92    3.115   0.706897   8.8438   \n",
      "Control              85  26.600000       96    4.462   1.056602   7.8500   \n",
      "Patient              85  27.688778      196   51.814  25.050342  70.8824   \n",
      "Control              86  21.111111       92    3.549   0.805386   6.6994   \n",
      "Patient              86  26.666667      201   41.611  20.630734  47.6470   \n",
      "Patient              86  27.180000      138   19.910   6.777364  90.2800   \n",
      "Control              89  22.700000       77    4.690   0.890787   6.9640   \n",
      "\n",
      "                    Adiponectin  Resistin     MCP.1  \n",
      "Control Or Patient                                   \n",
      "Control               36.060000   6.85000   632.220  \n",
      "Control               23.670000   5.14000   313.730  \n",
      "Control                4.794200  21.44366   358.624  \n",
      "Control                6.209635  24.60330   904.981  \n",
      "Control               26.720000   4.58000   174.800  \n",
      "Control                5.100000  17.10223   588.460  \n",
      "Patient               21.823745  12.06534   481.949  \n",
      "Control                7.642760   5.62592   572.783  \n",
      "Control               13.110000   6.92000   354.600  \n",
      "Control                6.966895  22.03703   667.928  \n",
      "Control                9.048185  16.43706   733.797  \n",
      "Control                8.600000   9.15390   534.224  \n",
      "Control                5.065915  15.72187   581.313  \n",
      "Patient                4.771920  15.73606   199.055  \n",
      "Control               17.950000   9.35000   165.020  \n",
      "Patient                6.160995  17.55503   638.261  \n",
      "Patient                6.783870  26.01360   293.123  \n",
      "Patient               13.494865  27.83250   783.796  \n",
      "Patient                6.695585  53.67170  1041.843  \n",
      "Patient                8.462915  17.37615   321.919  \n",
      "Patient               12.718960  38.65310   775.322  \n",
      "Patient                6.420295  16.10000   806.724  \n",
      "Control                8.300955   6.71026   960.246  \n",
      "Patient                5.478170  23.03306   407.206  \n",
      "Control               20.320000   7.64000    63.610  \n",
      "Patient               20.370000   4.62000   220.660  \n",
      "Patient               16.100000   5.31000   244.750  \n",
      "Patient               21.056625  23.03408   552.444  \n",
      "Patient                8.237405  28.03230   382.955  \n",
      "Patient               12.100000  10.96000   268.230  \n",
      "...                         ...       ...       ...  \n",
      "Patient                1.656020  49.24184   256.001  \n",
      "Control                8.130000   4.29890   200.976  \n",
      "Patient                5.486100  42.74470   799.898  \n",
      "Patient                2.784910  14.76966   232.018  \n",
      "Patient               33.750000   3.27000   392.460  \n",
      "Patient               17.860000   4.82000   195.940  \n",
      "Control               10.358725   6.28445   136.855  \n",
      "Patient                3.335665   6.89235   788.902  \n",
      "Patient                7.652220  18.35574   572.401  \n",
      "Patient               10.060000  11.73000    99.450  \n",
      "Control               11.578990   7.09130   318.302  \n",
      "Control                3.741220   4.49685   206.802  \n",
      "Control                9.000805   7.57670   335.393  \n",
      "Control               13.251320   5.10420   280.694  \n",
      "Control                7.369960   8.04375   698.789  \n",
      "Control                9.346630   8.41560   377.227  \n",
      "Control                4.935635   8.49395    45.843  \n",
      "Control                8.125550  17.26150   618.272  \n",
      "Control                9.753260  11.77400   488.829  \n",
      "Control               10.567295   4.66380   209.749  \n",
      "Patient               10.636525  29.55830   426.175  \n",
      "Patient                9.923650  19.94687   994.316  \n",
      "Control               22.432040   9.27715   554.697  \n",
      "Control                5.429285   4.06405   468.786  \n",
      "Control                7.931700   9.61350   232.006  \n",
      "Patient                7.901685  55.21530  1078.359  \n",
      "Control                4.819240  10.57635   773.920  \n",
      "Patient                5.357135  24.37010  1698.440  \n",
      "Patient               14.110000   4.35000    90.090  \n",
      "Control                5.589865  12.93610  1256.083  \n",
      "\n",
      "[116 rows x 9 columns]\n"
     ]
    }
   ],
   "source": [
    "print(df2.sort_values(['Age']))\n",
    "#No outliers appear to be present as increases in age are clearly shown to increase in increments of around 1-3 years"
   ]
  },
  {
   "cell_type": "code",
   "execution_count": 156,
   "metadata": {
    "scrolled": true
   },
   "outputs": [
    {
     "data": {
      "image/png": "[encoded data removed]",
      "text/plain": [
       "<Figure size 432x288 with 1 Axes>"
      ]
     },
     "metadata": {
      "needs_background": "light"
     },
     "output_type": "display_data"
    }
   ],
   "source": [
    "age_plot= df['Age'].hist(bins=161)\n",
    "#No Outliers"
   ]
  },
  {
   "cell_type": "code",
   "execution_count": 157,
   "metadata": {},
   "outputs": [
    {
     "data": {
      "image/png": "[encoded data removed]",
      "text/plain": [
       "<Figure size 432x288 with 1 Axes>"
      ]
     },
     "metadata": {
      "needs_background": "light"
     },
     "output_type": "display_data"
    }
   ],
   "source": [
    "BMI_plot= df['BMI'].hist(bins=161)\n",
    "#No Outliers"
   ]
  },
  {
   "cell_type": "code",
   "execution_count": 158,
   "metadata": {
    "scrolled": true
   },
   "outputs": [
    {
     "data": {
      "image/png": "[encoded data removed]",
      "text/plain": [
       "<Figure size 432x288 with 1 Axes>"
      ]
     },
     "metadata": {
      "needs_background": "light"
     },
     "output_type": "display_data"
    }
   ],
   "source": [
    "Glucose_plot= df['Glucose'].hist(bins=161)\n",
    "#Outliers= 60, 152, and 3 near 200"
   ]
  },
  {
   "cell_type": "code",
   "execution_count": 159,
   "metadata": {},
   "outputs": [
    {
     "data": {
      "image/png": "[encoded data removed]",
      "text/plain": [
       "<Figure size 432x288 with 1 Axes>"
      ]
     },
     "metadata": {
      "needs_background": "light"
     },
     "output_type": "display_data"
    }
   ],
   "source": [
    "Insulin_plot= df['Insulin'].hist(bins=161)\n",
    "#Outliers= All values above 30"
   ]
  },
  {
   "cell_type": "code",
   "execution_count": 160,
   "metadata": {},
   "outputs": [
    {
     "data": {
      "image/png": "[encoded data removed]",
      "text/plain": [
       "<Figure size 432x288 with 1 Axes>"
      ]
     },
     "metadata": {
      "needs_background": "light"
     },
     "output_type": "display_data"
    }
   ],
   "source": [
    "HOMA_plot= df['HOMA'].hist(bins=161)\n",
    "#Outliers= All values above 10"
   ]
  },
  {
   "cell_type": "code",
   "execution_count": 161,
   "metadata": {},
   "outputs": [
    {
     "data": {
      "image/png": "[encoded data removed]",
      "text/plain": [
       "<Figure size 432x288 with 1 Axes>"
      ]
     },
     "metadata": {
      "needs_background": "light"
     },
     "output_type": "display_data"
    }
   ],
   "source": [
    "Leptin_plot= df['Leptin'].hist(bins=161)\n",
    "#Outliers= All values above 80"
   ]
  },
  {
   "cell_type": "code",
   "execution_count": 162,
   "metadata": {},
   "outputs": [
    {
     "data": {
      "image/png": "[encoded data removed]",
      "text/plain": [
       "<Figure size 432x288 with 1 Axes>"
      ]
     },
     "metadata": {
      "needs_background": "light"
     },
     "output_type": "display_data"
    }
   ],
   "source": [
    "Adi_plot= df['Adiponectin'].hist(bins=161)\n",
    "#Outliers= All values above 30"
   ]
  },
  {
   "cell_type": "code",
   "execution_count": 166,
   "metadata": {},
   "outputs": [
    {
     "data": {
      "image/png": "[encoded data removed]",
      "text/plain": [
       "<Figure size 432x288 with 1 Axes>"
      ]
     },
     "metadata": {
      "needs_background": "light"
     },
     "output_type": "display_data"
    }
   ],
   "source": [
    "Res_plot= df['Resistin'].hist(bins=161)\n",
    "#Outliers= All values above 35"
   ]
  },
  {
   "cell_type": "code",
   "execution_count": 167,
   "metadata": {},
   "outputs": [
    {
     "data": {
      "image/png": "[encoded data removed]",
      "text/plain": [
       "<Figure size 432x288 with 1 Axes>"
      ]
     },
     "metadata": {
      "needs_background": "light"
     },
     "output_type": "display_data"
    }
   ],
   "source": [
    "MCP_plot=df['MCP.1'].hist(bins=161)\n",
    "#Outliers= All values above about 1200"
   ]
  },
  {
   "cell_type": "markdown",
   "metadata": {},
   "source": [
    "Summary Statistics Control/Patient"
   ]
  },
  {
   "cell_type": "code",
   "execution_count": 114,
   "metadata": {},
   "outputs": [
    {
     "name": "stdout",
     "output_type": "stream",
     "text": [
      "                          Age        BMI     Glucose    Insulin      HOMA  \\\n",
      "Control Or Patient                                                          \n",
      "Control             58.076923  28.317336   88.230769   6.933769  1.552398   \n",
      "Patient             56.671875  26.984740  105.562500  12.513219  3.623342   \n",
      "\n",
      "                       Leptin  Adiponectin   Resistin       MCP.1  \n",
      "Control Or Patient                                                 \n",
      "Control             26.637933    10.328205  11.614813  499.730692  \n",
      "Patient             26.596512    10.061167  17.253777  563.016500  \n"
     ]
    }
   ],
   "source": [
    "df10= df2.groupby(['Control Or Patient']).mean()\n",
    "print(df10)"
   ]
  }
 ],
 "metadata": {
  "kernelspec": {
   "display_name": "Python 3",
   "language": "python",
   "name": "python3"
  },
  "language_info": {
   "codemirror_mode": {
    "name": "ipython",
    "version": 3
   },
   "file_extension": ".py",
   "mimetype": "text/x-python",
   "name": "python",
   "nbconvert_exporter": "python",
   "pygments_lexer": "ipython3",
   "version": "3.7.3"
  }
 },
 "nbformat": 4,
 "nbformat_minor": 2
}
